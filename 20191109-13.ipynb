{
 "cells": [
  {
   "cell_type": "code",
   "execution_count": 2,
   "metadata": {},
   "outputs": [],
   "source": [
    "import urllib.request\n",
    "import os\n",
    "import tarfile"
   ]
  },
  {
   "cell_type": "code",
   "execution_count": 3,
   "metadata": {},
   "outputs": [],
   "source": [
    "url = \"http://ai.stanford.edu/~amaas/data/sentiment/aclImdb_v1.tar.gz\"\n",
    "filepath = \"data/aclImdb_v1.tar.gz\"\n",
    "if not os.path.isfile(filepath):\n",
    "    result = urllib.request.urlretrieve(url,filepath)\n",
    "    print(\"downloaded:\", result)"
   ]
  },
  {
   "cell_type": "code",
   "execution_count": 4,
   "metadata": {},
   "outputs": [],
   "source": [
    "if not os.path.exists(\"data/aclImdb\"):#解壓縮\n",
    "    tfile = tarfile.open(\"data/aclImdb_v1.tar.gz\", \"r:gz\")\n",
    "    result = tfile.extractall(\"data/\")"
   ]
  },
  {
   "cell_type": "code",
   "execution_count": 5,
   "metadata": {},
   "outputs": [
    {
     "name": "stderr",
     "output_type": "stream",
     "text": [
      "Using TensorFlow backend.\n"
     ]
    }
   ],
   "source": [
    "from keras.preprocessing import sequence\n",
    "from keras.preprocessing.text import Tokenizer"
   ]
  },
  {
   "cell_type": "code",
   "execution_count": 6,
   "metadata": {},
   "outputs": [],
   "source": [
    "import re\n",
    "def rm_tags(text):\n",
    "    re_tag = re.compile(r\"<[^>]>\")\n",
    "    return re_tag.sub(\"\", text)"
   ]
  },
  {
   "cell_type": "code",
   "execution_count": 7,
   "metadata": {},
   "outputs": [],
   "source": [
    "def read_files(filetype):\n",
    "    path = \"data/aclImdb/\"\n",
    "    file_list = []\n",
    "    \n",
    "    positive_path = path + filetype + \"/pos/\"\n",
    "    for f in os.listdir(positive_path):\n",
    "        file_list +=[positive_path+f]\n",
    "        \n",
    "    negative_path = path + filetype + \"/neg/\"\n",
    "    for f in os.listdir(negative_path):\n",
    "        file_list +=[negative_path+f]\n",
    "        \n",
    "    print(\"read\", filetype, \"files:\", len(file_list))\n",
    "    \n",
    "    all_labels = ([1] * 12500 + [0] * 12500)\n",
    "    all_texts = []\n",
    "    \n",
    "    for fi in file_list:\n",
    "        with open(fi, encoding = \"utf8\") as file_input:\n",
    "             all_texts += [rm_tags(\" \".join(file_input.readline()))]\n",
    "    \n",
    "    return all_labels, all_texts"
   ]
  },
  {
   "cell_type": "code",
   "execution_count": 8,
   "metadata": {},
   "outputs": [
    {
     "name": "stdout",
     "output_type": "stream",
     "text": [
      "read train files: 25000\n"
     ]
    }
   ],
   "source": [
    "y_train, train_text = read_files(\"train\")"
   ]
  },
  {
   "cell_type": "code",
   "execution_count": 9,
   "metadata": {},
   "outputs": [
    {
     "name": "stdout",
     "output_type": "stream",
     "text": [
      "read test files: 25000\n"
     ]
    }
   ],
   "source": [
    "y_test, test_text = read_files(\"test\")"
   ]
  },
  {
   "cell_type": "code",
   "execution_count": 10,
   "metadata": {},
   "outputs": [
    {
     "data": {
      "text/plain": [
       "'B r o m w e l l   H i g h   i s   a   c a r t o o n   c o m e d y .   I t   r a n   a t   t h e   s a m e   t i m e   a s   s o m e   o t h e r   p r o g r a m s   a b o u t   s c h o o l   l i f e ,   s u c h   a s   \" T e a c h e r s \" .   M y   3 5   y e a r s   i n   t h e   t e a c h i n g   p r o f e s s i o n   l e a d   m e   t o   b e l i e v e   t h a t   B r o m w e l l   H i g h \\' s   s a t i r e   i s   m u c h   c l o s e r   t o   r e a l i t y   t h a n   i s   \" T e a c h e r s \" .   T h e   s c r a m b l e   t o   s u r v i v e   f i n a n c i a l l y ,   t h e   i n s i g h t f u l   s t u d e n t s   w h o   c a n   s e e   r i g h t   t h r o u g h   t h e i r   p a t h e t i c   t e a c h e r s \\'   p o m p ,   t h e   p e t t i n e s s   o f   t h e   w h o l e   s i t u a t i o n ,   a l l   r e m i n d   m e   o f   t h e   s c h o o l s   I   k n e w   a n d   t h e i r   s t u d e n t s .   W h e n   I   s a w   t h e   e p i s o d e   i n   w h i c h   a   s t u d e n t   r e p e a t e d l y   t r i e d   t o   b u r n   d o w n   t h e   s c h o o l ,   I   i m m e d i a t e l y   r e c a l l e d   . . . . . . . . .   a t   . . . . . . . . . .   H i g h .   A   c l a s s i c   l i n e :   I N S P E C T O R :   I \\' m   h e r e   t o   s a c k   o n e   o f   y o u r   t e a c h e r s .   S T U D E N T :   W e l c o m e   t o   B r o m w e l l   H i g h .   I   e x p e c t   t h a t   m a n y   a d u l t s   o f   m y   a g e   t h i n k   t h a t   B r o m w e l l   H i g h   i s   f a r   f e t c h e d .   W h a t   a   p i t y   t h a t   i t   i s n \\' t !'"
      ]
     },
     "execution_count": 10,
     "metadata": {},
     "output_type": "execute_result"
    }
   ],
   "source": [
    "train_text[0]"
   ]
  },
  {
   "cell_type": "code",
   "execution_count": 11,
   "metadata": {},
   "outputs": [
    {
     "data": {
      "text/plain": [
       "1"
      ]
     },
     "execution_count": 11,
     "metadata": {},
     "output_type": "execute_result"
    }
   ],
   "source": [
    "y_train[0]"
   ]
  },
  {
   "cell_type": "code",
   "execution_count": 12,
   "metadata": {},
   "outputs": [
    {
     "data": {
      "text/plain": [
       "\"A i r p o r t   ' 7 7   s t a r t s   a s   a   b r a n d   n e w   l u x u r y   7 4 7   p l a n e   i s   l o a d e d   u p   w i t h   v a l u a b l e   p a i n t i n g s   &   s u c h   b e l o n g i n g   t o   r i c h   b u s i n e s s m a n   P h i l i p   S t e v e n s   ( J a m e s   S t e w a r t )   w h o   i s   f l y i n g   t h e m   &   a   b u n c h   o f   V I P ' s   t o   h i s   e s t a t e   i n   p r e p a r a t i o n   o f   i t   b e i n g   o p e n e d   t o   t h e   p u b l i c   a s   a   m u s e u m ,   a l s o   o n   b o a r d   i s   S t e v e n s   d a u g h t e r   J u l i e   ( K a t h l e e n   Q u i n l a n )   &   h e r   s o n .   T h e   l u x u r y   j e t l i n e r   t a k e s   o f f   a s   p l a n n e d   b u t   m i d - a i r   t h e   p l a n e   i s   h i - j a c k e d   b y   t h e   c o - p i l o t   C h a m b e r s   ( R o b e r t   F o x w o r t h )   &   h i s   t w o   a c c o m p l i c e ' s   B a n k e r   ( M o n t e   M a r k h a m )   &   W i l s o n   ( M i c h a e l   P a t a k i )   w h o   k n o c k   t h e   p a s s e n g e r s   &   c r e w   o u t   w i t h   s l e e p i n g   g a s ,   t h e y   p l a n   t o   s t e a l   t h e   v a l u a b l e   c a r g o   &   l a n d   o n   a   d i s u s e d   p l a n e   s t r i p   o n   a n   i s o l a t e d   i s l a n d   b u t   w h i l e   m a k i n g   h i s   d e s c e n t   C h a m b e r s   a l m o s t   h i t s   a n   o i l   r i g   i n   t h e   O c e a n   &   l o s e s   c o n t r o l   o f   t h e   p l a n e   s e n d i n g   i t   c r a s h i n g   i n t o   t h e   s e a   w h e r e   i t   s i n k s   t o   t h e   b o t t o m   r i g h t   b a n g   i n   t h e   m i d d l e   o f   t h e   B e r m u d a   T r i a n g l e .   W i t h   a i r   i n   s h o r t   s u p p l y ,   w a t e r   l e a k i n g   i n   &   h a v i n g   f l o w n   o v e r   2 0 0   m i l e s   o f f   c o u r s e   t h e   p r o b l e m s   m o u n t   f o r   t h e   s u r v i v o r ' s   a s   t h e y   a w a i t   h e l p   w i t h   t i m e   f a s t   r u n n i n g   o u t . . . < b r   / > < b r   / > A l s o   k n o w n   u n d e r   t h e   s l i g h t l y   d i f f e r e n t   t i l e   A i r p o r t   1 9 7 7   t h i s   s e c o n d   s e q u e l   t o   t h e   s m a s h - h i t   d i s a s t e r   t h r i l l e r   A i r p o r t   ( 1 9 7 0 )   w a s   d i r e c t e d   b y   J e r r y   J a m e s o n   &   w h i l e   o n c e   a g a i n   l i k e   i t ' s   p r e d e c e s s o r s   I   c a n ' t   s a y   A i r p o r t   ' 7 7   i s   a n y   s o r t   o f   f o r g o t t e n   c l a s s i c   i t   i s   e n t e r t a i n i n g   a l t h o u g h   n o t   n e c e s s a r i l y   f o r   t h e   r i g h t   r e a s o n s .   O u t   o f   t h e   t h r e e   A i r p o r t   f i l m s   I   h a v e   s e e n   s o   f a r   I   a c t u a l l y   l i k e d   t h i s   o n e   t h e   b e s t ,   j u s t .   I t   h a s   m y   f a v o u r i t e   p l o t   o f   t h e   t h r e e   w i t h   a   n i c e   m i d - a i r   h i - j a c k i n g   &   t h e n   t h e   c r a s h i n g   ( d i d n ' t   h e   s e e   t h e   o i l   r i g ? )   &   s i n k i n g   o f   t h e   7 4 7   ( m a y b e   t h e   m a k e r s   w e r e   t r y i n g   t o   c r o s s   t h e   o r i g i n a l   A i r p o r t   w i t h   a n o t h e r   p o p u l a r   d i s a s t e r   f l i c k   o f   t h e   p e r i o d   T h e   P o s e i d o n   A d v e n t u r e   ( 1 9 7 2 ) )   &   s u b m e r g e d   i s   w h e r e   i t   s t a y s   u n t i l   t h e   e n d   w i t h   a   s t a r k   d i l e m m a   f a c i n g   t h o s e   t r a p p e d   i n s i d e ,   e i t h e r   s u f f o c a t e   w h e n   t h e   a i r   r u n s   o u t   o r   d r o w n   a s   t h e   7 4 7   f l o o d s   o r   i f   a n y   o f   t h e   d o o r s   a r e   o p e n e d   &   i t ' s   a   d e c e n t   i d e a   t h a t   c o u l d   h a v e   m a d e   f o r   a   g r e a t   l i t t l e   d i s a s t e r   f l i c k   b u t   b a d   u n s y m p a t h e t i c   c h a r a c t e r ' s ,   d u l l   d i a l o g u e ,   l e t h a r g i c   s e t - p i e c e s   &   a   r e a l   l a c k   o f   d a n g e r   o r   s u s p e n s e   o r   t e n s i o n   m e a n s   t h i s   i s   a   m i s s e d   o p p o r t u n i t y .   W h i l e   t h e   r a t h e r   s l u g g i s h   p l o t   k e e p s   o n e   e n t e r t a i n e d   f o r   1 0 8   o d d   m i n u t e s   n o t   t h a t   m u c h   h a p p e n s   a f t e r   t h e   p l a n e   s i n k s   &   t h e r e ' s   n o t   a s   m u c h   u r g e n c y   a s   I   t h o u g h t   t h e r e   s h o u l d   h a v e   b e e n .   E v e n   w h e n   t h e   N a v y   b e c o m e   i n v o l v e d   t h i n g s   d o n ' t   p i c k   u p   t h a t   m u c h   w i t h   a   f e w   s h o t s   o f   h u g e   s h i p s   &   h e l i c o p t e r s   f l y i n g   a b o u t   b u t   t h e r e ' s   j u s t   s o m e t h i n g   l a c k i n g   h e r e .   G e o r g e   K e n n e d y   a s   t h e   j i n x e d   a i r l i n e   w o r k e r   J o e   P a t r o n i   i s   b a c k   b u t   o n l y   g e t s   a   c o u p l e   o f   s c e n e s   &   b a r e l y   e v e n   s a y s   a n y t h i n g   p r e f e r r i n g   t o   j u s t   l o o k   w o r r i e d   i n   t h e   b a c k g r o u n d . < b r   / > < b r   / > T h e   h o m e   v i d e o   &   t h e a t r i c a l   v e r s i o n   o f   A i r p o r t   ' 7 7   r u n   1 0 8   m i n u t e s   w h i l e   t h e   U S   T V   v e r s i o n s   a d d   a n   e x t r a   h o u r   o f   f o o t a g e   i n c l u d i n g   a   n e w   o p e n i n g   c r e d i t s   s e q u e n c e ,   m a n y   m o r e   s c e n e s   w i t h   G e o r g e   K e n n e d y   a s   P a t r o n i ,   f l a s h b a c k s   t o   f l e s h   o u t   c h a r a c t e r ' s ,   l o n g e r   r e s c u e   s c e n e s   &   t h e   d i s c o v e r y   o r   a n o t h e r   c o u p l e   o f   d e a d   b o d i e s   i n c l u d i n g   t h e   n a v i g a t o r .   W h i l e   I   w o u l d   l i k e   t o   s e e   t h i s   e x t r a   f o o t a g e   I   a m   n o t   s u r e   I   c o u l d   s i t   t h r o u g h   a   n e a r   t h r e e   h o u r   c u t   o f   A i r p o r t   ' 7 7 .   A s   e x p e c t e d   t h e   f i l m   h a s   d a t e d   b a d l y   w i t h   h o r r i b l e   f a s h i o n s   &   i n t e r i o r   d e s i g n   c h o i c e s ,   I   w i l l   s a y   n o   m o r e   o t h e r   t h a n   t h e   t o y   p l a n e   m o d e l   e f f e c t s   a r e n ' t   g r e a t   e i t h e r .   A l o n g   w i t h   t h e   o t h e r   t w o   A i r p o r t   s e q u e l s   t h i s   t a k e s   p r i d e   o f   p l a c e   i n   t h e   R a z z i e   A w a r d ' s   H a l l   o f   S h a m e   a l t h o u g h   I   c a n   t h i n k   o f   l o t s   o f   w o r s e   f i l m s   t h a n   t h i s   s o   I   r e c k o n   t h a t ' s   a   l i t t l e   h a r s h .   T h e   a c t i o n   s c e n e s   a r e   a   l i t t l e   d u l l   u n f o r t u n a t e l y ,   t h e   p a c e   i s   s l o w   &   n o t   m u c h   e x c i t e m e n t   o r   t e n s i o n   i s   g e n e r a t e d   w h i c h   i s   a   s h a m e   a s   I   r e c k o n   t h i s   c o u l d   h a v e   b e e n   a   p r e t t y   g o o d   f i l m   i f   m a d e   p r o p e r l y . < b r   / > < b r   / > T h e   p r o d u c t i o n   v a l u e s   a r e   a l r i g h t   i f   n o t h i n g   s p e c t a c u l a r .   T h e   a c t i n g   i s n ' t   g r e a t ,   t w o   t i m e   O s c a r   w i n n e r   J a c k   L e m m o n   h a s   s a i d   s i n c e   i t   w a s   a   m i s t a k e   t o   s t a r   i n   t h i s ,   o n e   t i m e   O s c a r   w i n n e r   J a m e s   S t e w a r t   l o o k s   o l d   &   f r a i l ,   a l s o   o n e   t i m e   O s c a r   w i n n e r   L e e   G r a n t   l o o k s   d r u n k   w h i l e   S i r   C h r i s t o p h e r   L e e   i s   g i v e n   l i t t l e   t o   d o   &   t h e r e   a r e   p l e n t y   o f   o t h e r   f a m i l i a r   f a c e s   t o   l o o k   o u t   f o r   t o o . < b r   / > < b r   / > A i r p o r t   ' 7 7   i s   t h e   m o s t   d i s a s t e r   o r i e n t a t e d   o f   t h e   t h r e e   A i r p o r t   f i l m s   s o   f a r   &   I   l i k e d   t h e   i d e a s   b e h i n d   i t   e v e n   i f   t h e y   w e r e   a   b i t   s i l l y ,   t h e   p r o d u c t i o n   &   b l a n d   d i r e c t i o n   d o e s n ' t   h e l p   t h o u g h   &   a   f i l m   a b o u t   a   s u n k e n   p l a n e   j u s t   s h o u l d n ' t   b e   t h i s   b o r i n g   o r   l e t h a r g i c .   F o l l o w e d   b y   T h e   C o n c o r d e   . . .   A i r p o r t   ' 7 9   ( 1 9 7 9 ) .\""
      ]
     },
     "execution_count": 12,
     "metadata": {},
     "output_type": "execute_result"
    }
   ],
   "source": [
    "train_text[12501]"
   ]
  },
  {
   "cell_type": "code",
   "execution_count": 13,
   "metadata": {},
   "outputs": [
    {
     "data": {
      "text/plain": [
       "0"
      ]
     },
     "execution_count": 13,
     "metadata": {},
     "output_type": "execute_result"
    }
   ],
   "source": [
    "y_train[12501]"
   ]
  },
  {
   "cell_type": "code",
   "execution_count": 14,
   "metadata": {},
   "outputs": [],
   "source": [
    "token = Tokenizer(num_words = 2000)\n",
    "token.fit_on_texts(train_text)"
   ]
  },
  {
   "cell_type": "code",
   "execution_count": 16,
   "metadata": {},
   "outputs": [
    {
     "name": "stdout",
     "output_type": "stream",
     "text": [
      "25000\n"
     ]
    }
   ],
   "source": [
    "print(token.document_count)"
   ]
  },
  {
   "cell_type": "code",
   "execution_count": 17,
   "metadata": {},
   "outputs": [
    {
     "name": "stdout",
     "output_type": "stream",
     "text": [
      "{'\\xad': 103, 'k': 22, 's': 6, '®': 89, '\\uf0b7': 83, '\\x8e': 72, 'ø': 79, 'ö': 55, '\\x96': 39, '9': 30, 'ù': 84, 'f': 15, 'c': 12, 'n': 7, 'j': 24, '”': 64, '¿': 94, '½': 68, 'æ': 87, '\\x9a': 101, '3': 32, '\\xa0': 81, '2': 31, '\\x85': 40, 'u': 14, '\\x9e': 73, 'g': 16, '–': 46, '\\x97': 41, 'ð': 106, 'ç': 57, 'o': 5, 'x': 25, 'ä': 49, '§': 78, 'ê': 65, '£': 48, 'z': 26, '\\x10': 104, 'r': 8, 'b': 18, 'î': 82, 'm': 13, '¡': 58, 'í': 50, 'q': 27, 'à': 56, 'ô': 52, '¤': 102, '7': 36, 'ã': 66, 'ō': 95, '¾': 105, 'ý': 90, 'i': 4, 'è': 44, '4': 35, 'ü': 53, 'é': 38, 'ï': 60, 'a': 3, 'e': 1, 'h': 9, '’': 43, 'â': 61, '¨': 51, '\\x80': 97, '\\x84': 70, 'p': 20, '¦': 75, 'á': 45, 'ò': 93, '»': 69, 'å': 67, 'ó': 54, 'º': 108, '8': 34, 'ú': 71, '0': 28, 't': 2, 'û': 92, '\\x8d': 109, '·': 76, '\\x08': 91, '\\x95': 77, 'ñ': 59, 'l': 10, '´': 42, 'd': 11, 'v': 21, '\\x91': 47, '5': 33, 'õ': 88, '1': 29, 'w': 19, '«': 74, '¢': 107, 'ì': 96, 'ß': 86, 'y': 17, '…': 85, '“': 62, '³': 99, '°': 100, '₤': 98, '‘': 80, '6': 37, 'ë': 63, \"'\": 23}\n"
     ]
    }
   ],
   "source": [
    "print(token.word_index)"
   ]
  },
  {
   "cell_type": "code",
   "execution_count": 19,
   "metadata": {},
   "outputs": [],
   "source": [
    "x_train_seq = token.texts_to_sequences(train_text)\n",
    "x_test_seq = token.texts_to_sequences(test_text)"
   ]
  },
  {
   "cell_type": "code",
   "execution_count": 20,
   "metadata": {},
   "outputs": [
    {
     "name": "stdout",
     "output_type": "stream",
     "text": [
      "B r o m w e l l   H i g h   i s   a   c a r t o o n   c o m e d y .   I t   r a n   a t   t h e   s a m e   t i m e   a s   s o m e   o t h e r   p r o g r a m s   a b o u t   s c h o o l   l i f e ,   s u c h   a s   \" T e a c h e r s \" .   M y   3 5   y e a r s   i n   t h e   t e a c h i n g   p r o f e s s i o n   l e a d   m e   t o   b e l i e v e   t h a t   B r o m w e l l   H i g h ' s   s a t i r e   i s   m u c h   c l o s e r   t o   r e a l i t y   t h a n   i s   \" T e a c h e r s \" .   T h e   s c r a m b l e   t o   s u r v i v e   f i n a n c i a l l y ,   t h e   i n s i g h t f u l   s t u d e n t s   w h o   c a n   s e e   r i g h t   t h r o u g h   t h e i r   p a t h e t i c   t e a c h e r s '   p o m p ,   t h e   p e t t i n e s s   o f   t h e   w h o l e   s i t u a t i o n ,   a l l   r e m i n d   m e   o f   t h e   s c h o o l s   I   k n e w   a n d   t h e i r   s t u d e n t s .   W h e n   I   s a w   t h e   e p i s o d e   i n   w h i c h   a   s t u d e n t   r e p e a t e d l y   t r i e d   t o   b u r n   d o w n   t h e   s c h o o l ,   I   i m m e d i a t e l y   r e c a l l e d   . . . . . . . . .   a t   . . . . . . . . . .   H i g h .   A   c l a s s i c   l i n e :   I N S P E C T O R :   I ' m   h e r e   t o   s a c k   o n e   o f   y o u r   t e a c h e r s .   S T U D E N T :   W e l c o m e   t o   B r o m w e l l   H i g h .   I   e x p e c t   t h a t   m a n y   a d u l t s   o f   m y   a g e   t h i n k   t h a t   B r o m w e l l   H i g h   i s   f a r   f e t c h e d .   W h a t   a   p i t y   t h a t   i t   i s n ' t !\n"
     ]
    }
   ],
   "source": [
    "print(train_text[0])"
   ]
  },
  {
   "cell_type": "code",
   "execution_count": 21,
   "metadata": {},
   "outputs": [
    {
     "name": "stdout",
     "output_type": "stream",
     "text": [
      "[18, 8, 5, 13, 19, 1, 10, 10, 9, 4, 16, 9, 4, 6, 3, 12, 3, 8, 2, 5, 5, 7, 12, 5, 13, 1, 11, 17, 4, 2, 8, 3, 7, 3, 2, 2, 9, 1, 6, 3, 13, 1, 2, 4, 13, 1, 3, 6, 6, 5, 13, 1, 5, 2, 9, 1, 8, 20, 8, 5, 16, 8, 3, 13, 6, 3, 18, 5, 14, 2, 6, 12, 9, 5, 5, 10, 10, 4, 15, 1, 6, 14, 12, 9, 3, 6, 2, 1, 3, 12, 9, 1, 8, 6, 13, 17, 32, 33, 17, 1, 3, 8, 6, 4, 7, 2, 9, 1, 2, 1, 3, 12, 9, 4, 7, 16, 20, 8, 5, 15, 1, 6, 6, 4, 5, 7, 10, 1, 3, 11, 13, 1, 2, 5, 18, 1, 10, 4, 1, 21, 1, 2, 9, 3, 2, 18, 8, 5, 13, 19, 1, 10, 10, 9, 4, 16, 9, 23, 6, 6, 3, 2, 4, 8, 1, 4, 6, 13, 14, 12, 9, 12, 10, 5, 6, 1, 8, 2, 5, 8, 1, 3, 10, 4, 2, 17, 2, 9, 3, 7, 4, 6, 2, 1, 3, 12, 9, 1, 8, 6, 2, 9, 1, 6, 12, 8, 3, 13, 18, 10, 1, 2, 5, 6, 14, 8, 21, 4, 21, 1, 15, 4, 7, 3, 7, 12, 4, 3, 10, 10, 17, 2, 9, 1, 4, 7, 6, 4, 16, 9, 2, 15, 14, 10, 6, 2, 14, 11, 1, 7, 2, 6, 19, 9, 5, 12, 3, 7, 6, 1, 1, 8, 4, 16, 9, 2, 2, 9, 8, 5, 14, 16, 9, 2, 9, 1, 4, 8, 20, 3, 2, 9, 1, 2, 4, 12, 2, 1, 3, 12, 9, 1, 8, 6, 23, 20, 5, 13, 20, 2, 9, 1, 20, 1, 2, 2, 4, 7, 1, 6, 6, 5, 15, 2, 9, 1, 19, 9, 5, 10, 1, 6, 4, 2, 14, 3, 2, 4, 5, 7, 3, 10, 10, 8, 1, 13, 4, 7, 11, 13, 1, 5, 15, 2, 9, 1, 6, 12, 9, 5, 5, 10, 6, 4, 22, 7, 1, 19, 3, 7, 11, 2, 9, 1, 4, 8, 6, 2, 14, 11, 1, 7, 2, 6, 19, 9, 1, 7, 4, 6, 3, 19, 2, 9, 1, 1, 20, 4, 6, 5, 11, 1, 4, 7, 19, 9, 4, 12, 9, 3, 6, 2, 14, 11, 1, 7, 2, 8, 1, 20, 1, 3, 2, 1, 11, 10, 17, 2, 8, 4, 1, 11, 2, 5, 18, 14, 8, 7, 11, 5, 19, 7, 2, 9, 1, 6, 12, 9, 5, 5, 10, 4, 4, 13, 13, 1, 11, 4, 3, 2, 1, 10, 17, 8, 1, 12, 3, 10, 10, 1, 11, 3, 2, 9, 4, 16, 9, 3, 12, 10, 3, 6, 6, 4, 12, 10, 4, 7, 1, 4, 7, 6, 20, 1, 12, 2, 5, 8, 4, 23, 13, 9, 1, 8, 1, 2, 5, 6, 3, 12, 22, 5, 7, 1, 5, 15, 17, 5, 14, 8, 2, 1, 3, 12, 9, 1, 8, 6, 6, 2, 14, 11, 1, 7, 2, 19, 1, 10, 12, 5, 13, 1, 2, 5, 18, 8, 5, 13, 19, 1, 10, 10, 9, 4, 16, 9, 4, 1, 25, 20, 1, 12, 2, 2, 9, 3, 2, 13, 3, 7, 17, 3, 11, 14, 10, 2, 6, 5, 15, 13, 17, 3, 16, 1, 2, 9, 4, 7, 22, 2, 9, 3, 2, 18, 8, 5, 13, 19, 1, 10, 10, 9, 4, 16, 9, 4, 6, 15, 3, 8, 15, 1, 2, 12, 9, 1, 11, 19, 9, 3, 2, 3, 20, 4, 2, 17, 2, 9, 3, 2, 4, 2, 4, 6, 7, 23, 2]\n"
     ]
    }
   ],
   "source": [
    "print(x_train_seq[0])"
   ]
  },
  {
   "cell_type": "code",
   "execution_count": 22,
   "metadata": {},
   "outputs": [],
   "source": [
    "x_train = sequence.pad_sequences(x_train_seq, maxlen = 100)\n",
    "x_test = sequence.pad_sequences(x_test_seq, maxlen = 100)"
   ]
  },
  {
   "cell_type": "code",
   "execution_count": 24,
   "metadata": {},
   "outputs": [
    {
     "name": "stdout",
     "output_type": "stream",
     "text": [
      "before pad_sequences length= 627\n",
      "[18, 8, 5, 13, 19, 1, 10, 10, 9, 4, 16, 9, 4, 6, 3, 12, 3, 8, 2, 5, 5, 7, 12, 5, 13, 1, 11, 17, 4, 2, 8, 3, 7, 3, 2, 2, 9, 1, 6, 3, 13, 1, 2, 4, 13, 1, 3, 6, 6, 5, 13, 1, 5, 2, 9, 1, 8, 20, 8, 5, 16, 8, 3, 13, 6, 3, 18, 5, 14, 2, 6, 12, 9, 5, 5, 10, 10, 4, 15, 1, 6, 14, 12, 9, 3, 6, 2, 1, 3, 12, 9, 1, 8, 6, 13, 17, 32, 33, 17, 1, 3, 8, 6, 4, 7, 2, 9, 1, 2, 1, 3, 12, 9, 4, 7, 16, 20, 8, 5, 15, 1, 6, 6, 4, 5, 7, 10, 1, 3, 11, 13, 1, 2, 5, 18, 1, 10, 4, 1, 21, 1, 2, 9, 3, 2, 18, 8, 5, 13, 19, 1, 10, 10, 9, 4, 16, 9, 23, 6, 6, 3, 2, 4, 8, 1, 4, 6, 13, 14, 12, 9, 12, 10, 5, 6, 1, 8, 2, 5, 8, 1, 3, 10, 4, 2, 17, 2, 9, 3, 7, 4, 6, 2, 1, 3, 12, 9, 1, 8, 6, 2, 9, 1, 6, 12, 8, 3, 13, 18, 10, 1, 2, 5, 6, 14, 8, 21, 4, 21, 1, 15, 4, 7, 3, 7, 12, 4, 3, 10, 10, 17, 2, 9, 1, 4, 7, 6, 4, 16, 9, 2, 15, 14, 10, 6, 2, 14, 11, 1, 7, 2, 6, 19, 9, 5, 12, 3, 7, 6, 1, 1, 8, 4, 16, 9, 2, 2, 9, 8, 5, 14, 16, 9, 2, 9, 1, 4, 8, 20, 3, 2, 9, 1, 2, 4, 12, 2, 1, 3, 12, 9, 1, 8, 6, 23, 20, 5, 13, 20, 2, 9, 1, 20, 1, 2, 2, 4, 7, 1, 6, 6, 5, 15, 2, 9, 1, 19, 9, 5, 10, 1, 6, 4, 2, 14, 3, 2, 4, 5, 7, 3, 10, 10, 8, 1, 13, 4, 7, 11, 13, 1, 5, 15, 2, 9, 1, 6, 12, 9, 5, 5, 10, 6, 4, 22, 7, 1, 19, 3, 7, 11, 2, 9, 1, 4, 8, 6, 2, 14, 11, 1, 7, 2, 6, 19, 9, 1, 7, 4, 6, 3, 19, 2, 9, 1, 1, 20, 4, 6, 5, 11, 1, 4, 7, 19, 9, 4, 12, 9, 3, 6, 2, 14, 11, 1, 7, 2, 8, 1, 20, 1, 3, 2, 1, 11, 10, 17, 2, 8, 4, 1, 11, 2, 5, 18, 14, 8, 7, 11, 5, 19, 7, 2, 9, 1, 6, 12, 9, 5, 5, 10, 4, 4, 13, 13, 1, 11, 4, 3, 2, 1, 10, 17, 8, 1, 12, 3, 10, 10, 1, 11, 3, 2, 9, 4, 16, 9, 3, 12, 10, 3, 6, 6, 4, 12, 10, 4, 7, 1, 4, 7, 6, 20, 1, 12, 2, 5, 8, 4, 23, 13, 9, 1, 8, 1, 2, 5, 6, 3, 12, 22, 5, 7, 1, 5, 15, 17, 5, 14, 8, 2, 1, 3, 12, 9, 1, 8, 6, 6, 2, 14, 11, 1, 7, 2, 19, 1, 10, 12, 5, 13, 1, 2, 5, 18, 8, 5, 13, 19, 1, 10, 10, 9, 4, 16, 9, 4, 1, 25, 20, 1, 12, 2, 2, 9, 3, 2, 13, 3, 7, 17, 3, 11, 14, 10, 2, 6, 5, 15, 13, 17, 3, 16, 1, 2, 9, 4, 7, 22, 2, 9, 3, 2, 18, 8, 5, 13, 19, 1, 10, 10, 9, 4, 16, 9, 4, 6, 15, 3, 8, 15, 1, 2, 12, 9, 1, 11, 19, 9, 3, 2, 3, 20, 4, 2, 17, 2, 9, 3, 2, 4, 2, 4, 6, 7, 23, 2]\n"
     ]
    }
   ],
   "source": [
    "print(\"before pad_sequences length=\", len(x_train_seq[0]))\n",
    "print(x_train_seq[0])"
   ]
  },
  {
   "cell_type": "code",
   "execution_count": 25,
   "metadata": {},
   "outputs": [
    {
     "name": "stdout",
     "output_type": "stream",
     "text": [
      "after pad_sequences length= 100\n",
      "[18, 8, 5, 13, 19, 1, 10, 10, 9, 4, 16, 9, 4, 6, 3, 12, 3, 8, 2, 5, 5, 7, 12, 5, 13, 1, 11, 17, 4, 2, 8, 3, 7, 3, 2, 2, 9, 1, 6, 3, 13, 1, 2, 4, 13, 1, 3, 6, 6, 5, 13, 1, 5, 2, 9, 1, 8, 20, 8, 5, 16, 8, 3, 13, 6, 3, 18, 5, 14, 2, 6, 12, 9, 5, 5, 10, 10, 4, 15, 1, 6, 14, 12, 9, 3, 6, 2, 1, 3, 12, 9, 1, 8, 6, 13, 17, 32, 33, 17, 1, 3, 8, 6, 4, 7, 2, 9, 1, 2, 1, 3, 12, 9, 4, 7, 16, 20, 8, 5, 15, 1, 6, 6, 4, 5, 7, 10, 1, 3, 11, 13, 1, 2, 5, 18, 1, 10, 4, 1, 21, 1, 2, 9, 3, 2, 18, 8, 5, 13, 19, 1, 10, 10, 9, 4, 16, 9, 23, 6, 6, 3, 2, 4, 8, 1, 4, 6, 13, 14, 12, 9, 12, 10, 5, 6, 1, 8, 2, 5, 8, 1, 3, 10, 4, 2, 17, 2, 9, 3, 7, 4, 6, 2, 1, 3, 12, 9, 1, 8, 6, 2, 9, 1, 6, 12, 8, 3, 13, 18, 10, 1, 2, 5, 6, 14, 8, 21, 4, 21, 1, 15, 4, 7, 3, 7, 12, 4, 3, 10, 10, 17, 2, 9, 1, 4, 7, 6, 4, 16, 9, 2, 15, 14, 10, 6, 2, 14, 11, 1, 7, 2, 6, 19, 9, 5, 12, 3, 7, 6, 1, 1, 8, 4, 16, 9, 2, 2, 9, 8, 5, 14, 16, 9, 2, 9, 1, 4, 8, 20, 3, 2, 9, 1, 2, 4, 12, 2, 1, 3, 12, 9, 1, 8, 6, 23, 20, 5, 13, 20, 2, 9, 1, 20, 1, 2, 2, 4, 7, 1, 6, 6, 5, 15, 2, 9, 1, 19, 9, 5, 10, 1, 6, 4, 2, 14, 3, 2, 4, 5, 7, 3, 10, 10, 8, 1, 13, 4, 7, 11, 13, 1, 5, 15, 2, 9, 1, 6, 12, 9, 5, 5, 10, 6, 4, 22, 7, 1, 19, 3, 7, 11, 2, 9, 1, 4, 8, 6, 2, 14, 11, 1, 7, 2, 6, 19, 9, 1, 7, 4, 6, 3, 19, 2, 9, 1, 1, 20, 4, 6, 5, 11, 1, 4, 7, 19, 9, 4, 12, 9, 3, 6, 2, 14, 11, 1, 7, 2, 8, 1, 20, 1, 3, 2, 1, 11, 10, 17, 2, 8, 4, 1, 11, 2, 5, 18, 14, 8, 7, 11, 5, 19, 7, 2, 9, 1, 6, 12, 9, 5, 5, 10, 4, 4, 13, 13, 1, 11, 4, 3, 2, 1, 10, 17, 8, 1, 12, 3, 10, 10, 1, 11, 3, 2, 9, 4, 16, 9, 3, 12, 10, 3, 6, 6, 4, 12, 10, 4, 7, 1, 4, 7, 6, 20, 1, 12, 2, 5, 8, 4, 23, 13, 9, 1, 8, 1, 2, 5, 6, 3, 12, 22, 5, 7, 1, 5, 15, 17, 5, 14, 8, 2, 1, 3, 12, 9, 1, 8, 6, 6, 2, 14, 11, 1, 7, 2, 19, 1, 10, 12, 5, 13, 1, 2, 5, 18, 8, 5, 13, 19, 1, 10, 10, 9, 4, 16, 9, 4, 1, 25, 20, 1, 12, 2, 2, 9, 3, 2, 13, 3, 7, 17, 3, 11, 14, 10, 2, 6, 5, 15, 13, 17, 3, 16, 1, 2, 9, 4, 7, 22, 2, 9, 3, 2, 18, 8, 5, 13, 19, 1, 10, 10, 9, 4, 16, 9, 4, 6, 15, 3, 8, 15, 1, 2, 12, 9, 1, 11, 19, 9, 3, 2, 3, 20, 4, 2, 17, 2, 9, 3, 2, 4, 2, 4, 6, 7, 23, 2]\n"
     ]
    }
   ],
   "source": [
    "print(\"after pad_sequences length=\", len(x_train[0]))\n",
    "print(x_train_seq[0])"
   ]
  },
  {
   "cell_type": "code",
   "execution_count": 26,
   "metadata": {},
   "outputs": [
    {
     "name": "stdout",
     "output_type": "stream",
     "text": [
      "before pad_sequences length= 1865\n",
      "[9, 5, 13, 1, 10, 1, 6, 6, 7, 1, 6, 6, 5, 8, 9, 5, 14, 6, 1, 10, 1, 6, 6, 7, 1, 6, 6, 3, 6, 16, 1, 5, 8, 16, 1, 12, 3, 8, 10, 4, 7, 6, 2, 3, 2, 1, 11, 9, 3, 6, 18, 1, 1, 7, 3, 7, 4, 6, 6, 14, 1, 15, 5, 8, 17, 1, 3, 8, 6, 18, 14, 2, 7, 1, 21, 1, 8, 3, 20, 10, 3, 7, 2, 5, 9, 1, 10, 20, 2, 9, 5, 6, 1, 5, 7, 2, 9, 1, 6, 2, 8, 1, 1, 2, 2, 9, 3, 2, 19, 1, 8, 1, 5, 7, 12, 1, 12, 5, 7, 6, 4, 11, 1, 8, 1, 11, 9, 14, 13, 3, 7, 19, 9, 5, 11, 4, 11, 1, 21, 1, 8, 17, 2, 9, 4, 7, 16, 15, 8, 5, 13, 16, 5, 4, 7, 16, 2, 5, 6, 12, 9, 5, 5, 10, 19, 5, 8, 22, 5, 8, 21, 5, 2, 1, 15, 5, 8, 2, 9, 1, 13, 3, 2, 2, 1, 8, 13, 5, 6, 2, 20, 1, 5, 20, 10, 1, 2, 9, 4, 7, 22, 5, 15, 2, 9, 1, 9, 5, 13, 1, 10, 1, 6, 6, 3, 6, 24, 14, 6, 2, 3, 10, 5, 6, 2, 12, 3, 14, 6, 1, 19, 9, 4, 10, 1, 19, 5, 8, 8, 17, 4, 7, 16, 3, 18, 5, 14, 2, 2, 9, 4, 7, 16, 6, 6, 14, 12, 9, 3, 6, 8, 3, 12, 4, 6, 13, 2, 9, 1, 19, 3, 8, 5, 7, 4, 8, 3, 27, 20, 8, 1, 6, 6, 14, 8, 4, 7, 16, 22, 4, 11, 6, 2, 5, 6, 14, 12, 12, 1, 1, 11, 2, 1, 12, 9, 7, 5, 10, 5, 16, 17, 2, 9, 1, 1, 10, 1, 12, 2, 4, 5, 7, 6, 4, 7, 15, 10, 3, 2, 4, 5, 7, 5, 8, 19, 5, 8, 8, 17, 4, 7, 16, 4, 15, 2, 9, 1, 17, 23, 10, 10, 18, 1, 7, 1, 25, 2, 2, 5, 1, 7, 11, 14, 20, 5, 7, 2, 9, 1, 6, 2, 8, 1, 1, 2, 6, 18, 8, 18, 8, 18, 14, 2, 19, 9, 3, 2, 4, 15, 17, 5, 14, 19, 1, 8, 1, 16, 4, 21, 1, 7, 3, 18, 1, 2, 2, 5, 10, 4, 21, 1, 5, 7, 2, 9, 1, 6, 2, 8, 1, 1, 2, 6, 15, 5, 8, 3, 13, 5, 7, 2, 9, 19, 4, 2, 9, 5, 14, 2, 2, 9, 1, 10, 14, 25, 14, 8, 4, 1, 6, 17, 5, 14, 5, 7, 12, 1, 9, 3, 11, 15, 8, 5, 13, 3, 9, 5, 13, 1, 2, 9, 1, 1, 7, 2, 1, 8, 2, 3, 4, 7, 13, 1, 7, 2, 6, 1, 2, 6, 3, 18, 3, 2, 9, 8, 5, 5, 13, 20, 4, 12, 2, 14, 8, 1, 6, 5, 7, 2, 9, 1, 19, 3, 10, 10, 3, 12, 5, 13, 20, 14, 2, 1, 8, 3, 7, 11, 1, 21, 1, 8, 17, 2, 9, 4, 7, 16, 17, 5, 14, 5, 7, 12, 1, 2, 8, 1, 3, 6, 14, 8, 1, 2, 5, 6, 1, 1, 19, 9, 3, 2, 4, 2, 23, 6, 10, 4, 22, 1, 2, 5, 18, 1, 9, 5, 13, 1, 10, 1, 6, 6, 2, 9, 3, 2, 4, 6, 16, 5, 11, 11, 3, 8, 11, 18, 5, 10, 2, 23, 6, 10, 1, 6, 6, 5, 7, 18, 8, 18, 8, 13, 1, 10, 18, 8, 5, 5, 22, 6, 19, 9, 5, 11, 4, 8, 1, 12, 2, 6, 19, 9, 5, 6, 2, 3, 8, 6, 3, 6, 18, 5, 10, 2, 20, 10, 3, 17, 6, 3, 8, 4, 12, 9, 13, 3, 7, 19, 9, 5, 9, 3, 6, 1, 21, 1, 8, 17, 2, 9, 4, 7, 16, 4, 7, 2, 9, 1, 19, 5, 8, 10, 11, 14, 7, 2, 4, 10, 11, 1, 12, 4, 11, 4, 7, 16, 2, 5, 13, 3, 22, 1, 3, 18, 1, 2, 19, 4, 2, 9, 3, 6, 4, 6, 6, 17, 8, 4, 21, 3, 10, 24, 1, 15, 15, 1, 8, 17, 2, 3, 13, 18, 5, 8, 2, 5, 6, 1, 1, 4, 15, 9, 1, 12, 3, 7, 10, 4, 21, 1, 4, 7, 2, 9, 1, 6, 2, 8, 1, 1, 2, 6, 15, 5, 8, 2, 9, 4, 8, 2, 17, 11, 3, 17, 6, 19, 4, 2, 9, 5, 14, 2, 2, 9, 1, 10, 14, 25, 14, 8, 4, 1, 6, 4, 15, 18, 5, 10, 2, 6, 14, 12, 12, 1, 1, 11, 6, 9, 1, 12, 3, 7, 11, 5, 19, 9, 3, 2, 9, 1, 19, 3, 7, 2, 6, 19, 4, 2, 9, 3, 15, 14, 2, 14, 8, 1, 20, 8, 5, 24, 1, 12, 2, 5, 15, 13, 3, 22, 4, 7, 16, 13, 5, 8, 1, 18, 14, 4, 10, 11, 4, 7, 16, 6, 2, 9, 1, 18, 1, 2, 23, 6, 5, 7, 19, 9, 1, 8, 1, 18, 5, 10, 2, 4, 6, 2, 9, 8, 5, 19, 7, 5, 7, 2, 9, 1, 6, 2, 8, 1, 1, 2, 19, 4, 2, 9, 3, 18, 8, 3, 12, 1, 10, 1, 2, 5, 7, 9, 4, 6, 10, 1, 16, 2, 5, 13, 5, 7, 4, 2, 5, 8, 9, 4, 6, 1, 21, 1, 8, 17, 13, 5, 21, 1, 19, 9, 1, 8, 1, 9, 1, 12, 3, 7, 23, 2, 6, 2, 1, 20, 5, 15, 15, 2, 9, 1, 6, 4, 11, 1, 19, 3, 10, 22, 9, 1, 23, 6, 16, 4, 21, 1, 7, 2, 9, 1, 7, 4, 12, 22, 7, 3, 13, 1, 20, 1, 20, 2, 5, 18, 17, 3, 21, 3, 16, 8, 3, 7, 2, 3, 15, 2, 1, 8, 4, 2, 23, 6, 19, 8, 4, 2, 2, 1, 7, 5, 7, 9, 4, 6, 15, 5, 8, 1, 9, 1, 3, 11, 19, 9, 1, 8, 1, 18, 5, 10, 2, 13, 1, 1, 2, 6, 5, 2, 9, 1, 8, 12, 9, 3, 8, 3, 12, 2, 1, 8, 6, 4, 7, 12, 10, 14, 11, 4, 7, 16, 3, 19, 5, 13, 3, 7, 18, 17, 2, 9, 1, 7, 3, 13, 1, 5, 15, 13, 5, 10, 10, 17, 10, 1, 6, 10, 1, 17, 3, 7, 7, 19, 3, 8, 8, 1, 7, 3, 7, 1, 25, 11, 3, 7, 12, 1, 8, 19, 9, 5, 16, 5, 2, 11, 4, 21, 5, 8, 12, 1, 18, 1, 15, 5, 8, 1, 10, 5, 6, 4, 7, 16, 9, 1, 8, 9, 5, 13, 1, 3, 7, 11, 9, 1, 8, 20, 3, 10, 6, 6, 3, 4, 10, 5, 8, 9, 5, 19, 3, 8, 11, 13, 5, 8, 8, 4, 6, 3, 7, 11, 15, 14, 13, 1, 6, 2, 1, 11, 11, 17, 19, 4, 10, 6, 5, 7, 19, 9, 5, 3, 8, 1, 3, 10, 8, 1, 3, 11, 17, 14, 6, 1, 11, 2, 5, 2, 9, 1, 6, 2, 8, 1, 1, 2, 6, 2, 9, 1, 17, 23, 8, 1, 6, 14, 8, 21, 4, 21, 5, 8, 6, 18, 5, 10, 2, 4, 6, 7, 23, 2, 9, 1, 23, 6, 7, 5, 2, 14, 6, 1, 11, 2, 5, 8, 1, 3, 12, 9, 4, 7, 16, 13, 14, 2, 14, 3, 10, 3, 16, 8, 1, 1, 13, 1, 7, 2, 6, 10, 4, 22, 1, 9, 1, 5, 7, 12, 1, 11, 4, 11, 19, 9, 1, 7, 18, 1, 4, 7, 16, 8, 4, 12, 9, 19, 9, 1, 8, 1, 4, 2, 23, 6, 15, 4, 16, 9, 2, 5, 8, 15, 10, 4, 16, 9, 2, 22, 4, 10, 10, 5, 8, 18, 1, 22, 4, 10, 10, 1, 11, 18, 8, 18, 8, 19, 9, 4, 10, 1, 2, 9, 1, 10, 5, 21, 1, 12, 5, 7, 7, 1, 12, 2, 4, 5, 7, 18, 1, 2, 19, 1, 1, 7, 13, 5, 10, 10, 17, 3, 7, 11, 18, 5, 10, 2, 19, 3, 6, 7, 23, 2, 7, 1, 12, 1, 6, 6, 3, 8, 17, 2, 5, 20, 10, 5, 2, 4, 15, 5, 14, 7, 11, 10, 4, 15, 1, 6, 2, 4, 7, 22, 6, 2, 5, 18, 1, 5, 7, 1, 5, 15, 13, 1, 10, 18, 8, 5, 5, 22, 6, 23, 5, 18, 6, 1, 8, 21, 3, 7, 2, 15, 4, 10, 13, 6, 19, 9, 1, 8, 1, 20, 8, 4, 5, 8, 2, 5, 18, 1, 4, 7, 16, 3, 12, 5, 13, 1, 11, 17, 4, 2, 6, 9, 5, 19, 6, 3, 2, 1, 7, 11, 1, 8, 6, 4, 11, 1, 12, 5, 13, 20, 3, 8, 1, 11, 2, 5, 9, 4, 6, 6, 10, 3, 20, 6, 2, 4, 12, 22, 19, 5, 8, 22, 6, 14, 12, 9, 3, 6, 18, 10, 3, 26, 4, 7, 16, 6, 3, 11, 11, 10, 1, 6, 17, 5, 14, 7, 16, 15, 8, 3, 7, 22, 1, 7, 6, 2, 1, 4, 7, 5, 8, 6, 20, 3, 12, 1, 18, 3, 10, 10, 6, 15, 5, 8, 2, 9, 1, 13, 3, 2, 2, 1, 8, 2, 5, 6, 9, 5, 19, 19, 9, 3, 2, 4, 2, 23, 6, 10, 4, 22, 1, 9, 3, 21, 4, 7, 16, 6, 5, 13, 1, 2, 9, 4, 7, 16, 21, 3, 10, 14, 3, 18, 10, 1, 18, 1, 15, 5, 8, 1, 10, 5, 6, 4, 7, 16, 4, 2, 2, 9, 1, 7, 1, 25, 2, 11, 3, 17, 5, 8, 5, 7, 2, 9, 1, 5, 2, 9, 1, 8, 9, 3, 7, 11, 13, 3, 22, 4, 7, 16, 3, 6, 2, 14, 20, 4, 11, 18, 1, 2, 10, 4, 22, 1, 3, 10, 10, 8, 4, 12, 9, 20, 1, 5, 20, 10, 1, 11, 5, 19, 9, 1, 7, 2, 9, 1, 17, 11, 5, 7, 23, 2, 22, 7, 5, 19, 19, 9, 3, 2, 2, 5, 11, 5, 19, 4, 2, 9, 2, 9, 1, 4, 8, 13, 5, 7, 1, 17, 13, 3, 17, 18, 1, 2, 9, 1, 17, 6, 9, 5, 14, 10, 11, 16, 4, 21, 1, 4, 2, 2, 5, 2, 9, 1, 9, 5, 13, 1, 10, 1, 6, 6, 4, 7, 6, 2, 1, 3, 11, 5, 15, 14, 6, 4, 7, 16, 4, 2, 10, 4, 22, 1, 13, 5, 7, 5, 20, 5, 10, 17, 13, 5, 7, 1, 17, 18, 8, 18, 8, 5, 8, 13, 3, 17, 18, 1, 2, 9, 4, 6, 15, 4, 10, 13, 19, 4, 10, 10, 4, 7, 6, 20, 4, 8, 1, 17, 5, 14, 2, 5, 9, 1, 10, 20, 5, 2, 9, 1, 8, 6]\n"
     ]
    }
   ],
   "source": [
    "print(\"before pad_sequences length=\", len(x_train_seq[1]))\n",
    "print(x_train_seq[1])"
   ]
  },
  {
   "cell_type": "code",
   "execution_count": 27,
   "metadata": {},
   "outputs": [
    {
     "name": "stdout",
     "output_type": "stream",
     "text": [
      "after pad_sequences length= 100\n",
      "[9, 5, 13, 1, 10, 1, 6, 6, 7, 1, 6, 6, 5, 8, 9, 5, 14, 6, 1, 10, 1, 6, 6, 7, 1, 6, 6, 3, 6, 16, 1, 5, 8, 16, 1, 12, 3, 8, 10, 4, 7, 6, 2, 3, 2, 1, 11, 9, 3, 6, 18, 1, 1, 7, 3, 7, 4, 6, 6, 14, 1, 15, 5, 8, 17, 1, 3, 8, 6, 18, 14, 2, 7, 1, 21, 1, 8, 3, 20, 10, 3, 7, 2, 5, 9, 1, 10, 20, 2, 9, 5, 6, 1, 5, 7, 2, 9, 1, 6, 2, 8, 1, 1, 2, 2, 9, 3, 2, 19, 1, 8, 1, 5, 7, 12, 1, 12, 5, 7, 6, 4, 11, 1, 8, 1, 11, 9, 14, 13, 3, 7, 19, 9, 5, 11, 4, 11, 1, 21, 1, 8, 17, 2, 9, 4, 7, 16, 15, 8, 5, 13, 16, 5, 4, 7, 16, 2, 5, 6, 12, 9, 5, 5, 10, 19, 5, 8, 22, 5, 8, 21, 5, 2, 1, 15, 5, 8, 2, 9, 1, 13, 3, 2, 2, 1, 8, 13, 5, 6, 2, 20, 1, 5, 20, 10, 1, 2, 9, 4, 7, 22, 5, 15, 2, 9, 1, 9, 5, 13, 1, 10, 1, 6, 6, 3, 6, 24, 14, 6, 2, 3, 10, 5, 6, 2, 12, 3, 14, 6, 1, 19, 9, 4, 10, 1, 19, 5, 8, 8, 17, 4, 7, 16, 3, 18, 5, 14, 2, 2, 9, 4, 7, 16, 6, 6, 14, 12, 9, 3, 6, 8, 3, 12, 4, 6, 13, 2, 9, 1, 19, 3, 8, 5, 7, 4, 8, 3, 27, 20, 8, 1, 6, 6, 14, 8, 4, 7, 16, 22, 4, 11, 6, 2, 5, 6, 14, 12, 12, 1, 1, 11, 2, 1, 12, 9, 7, 5, 10, 5, 16, 17, 2, 9, 1, 1, 10, 1, 12, 2, 4, 5, 7, 6, 4, 7, 15, 10, 3, 2, 4, 5, 7, 5, 8, 19, 5, 8, 8, 17, 4, 7, 16, 4, 15, 2, 9, 1, 17, 23, 10, 10, 18, 1, 7, 1, 25, 2, 2, 5, 1, 7, 11, 14, 20, 5, 7, 2, 9, 1, 6, 2, 8, 1, 1, 2, 6, 18, 8, 18, 8, 18, 14, 2, 19, 9, 3, 2, 4, 15, 17, 5, 14, 19, 1, 8, 1, 16, 4, 21, 1, 7, 3, 18, 1, 2, 2, 5, 10, 4, 21, 1, 5, 7, 2, 9, 1, 6, 2, 8, 1, 1, 2, 6, 15, 5, 8, 3, 13, 5, 7, 2, 9, 19, 4, 2, 9, 5, 14, 2, 2, 9, 1, 10, 14, 25, 14, 8, 4, 1, 6, 17, 5, 14, 5, 7, 12, 1, 9, 3, 11, 15, 8, 5, 13, 3, 9, 5, 13, 1, 2, 9, 1, 1, 7, 2, 1, 8, 2, 3, 4, 7, 13, 1, 7, 2, 6, 1, 2, 6, 3, 18, 3, 2, 9, 8, 5, 5, 13, 20, 4, 12, 2, 14, 8, 1, 6, 5, 7, 2, 9, 1, 19, 3, 10, 10, 3, 12, 5, 13, 20, 14, 2, 1, 8, 3, 7, 11, 1, 21, 1, 8, 17, 2, 9, 4, 7, 16, 17, 5, 14, 5, 7, 12, 1, 2, 8, 1, 3, 6, 14, 8, 1, 2, 5, 6, 1, 1, 19, 9, 3, 2, 4, 2, 23, 6, 10, 4, 22, 1, 2, 5, 18, 1, 9, 5, 13, 1, 10, 1, 6, 6, 2, 9, 3, 2, 4, 6, 16, 5, 11, 11, 3, 8, 11, 18, 5, 10, 2, 23, 6, 10, 1, 6, 6, 5, 7, 18, 8, 18, 8, 13, 1, 10, 18, 8, 5, 5, 22, 6, 19, 9, 5, 11, 4, 8, 1, 12, 2, 6, 19, 9, 5, 6, 2, 3, 8, 6, 3, 6, 18, 5, 10, 2, 20, 10, 3, 17, 6, 3, 8, 4, 12, 9, 13, 3, 7, 19, 9, 5, 9, 3, 6, 1, 21, 1, 8, 17, 2, 9, 4, 7, 16, 4, 7, 2, 9, 1, 19, 5, 8, 10, 11, 14, 7, 2, 4, 10, 11, 1, 12, 4, 11, 4, 7, 16, 2, 5, 13, 3, 22, 1, 3, 18, 1, 2, 19, 4, 2, 9, 3, 6, 4, 6, 6, 17, 8, 4, 21, 3, 10, 24, 1, 15, 15, 1, 8, 17, 2, 3, 13, 18, 5, 8, 2, 5, 6, 1, 1, 4, 15, 9, 1, 12, 3, 7, 10, 4, 21, 1, 4, 7, 2, 9, 1, 6, 2, 8, 1, 1, 2, 6, 15, 5, 8, 2, 9, 4, 8, 2, 17, 11, 3, 17, 6, 19, 4, 2, 9, 5, 14, 2, 2, 9, 1, 10, 14, 25, 14, 8, 4, 1, 6, 4, 15, 18, 5, 10, 2, 6, 14, 12, 12, 1, 1, 11, 6, 9, 1, 12, 3, 7, 11, 5, 19, 9, 3, 2, 9, 1, 19, 3, 7, 2, 6, 19, 4, 2, 9, 3, 15, 14, 2, 14, 8, 1, 20, 8, 5, 24, 1, 12, 2, 5, 15, 13, 3, 22, 4, 7, 16, 13, 5, 8, 1, 18, 14, 4, 10, 11, 4, 7, 16, 6, 2, 9, 1, 18, 1, 2, 23, 6, 5, 7, 19, 9, 1, 8, 1, 18, 5, 10, 2, 4, 6, 2, 9, 8, 5, 19, 7, 5, 7, 2, 9, 1, 6, 2, 8, 1, 1, 2, 19, 4, 2, 9, 3, 18, 8, 3, 12, 1, 10, 1, 2, 5, 7, 9, 4, 6, 10, 1, 16, 2, 5, 13, 5, 7, 4, 2, 5, 8, 9, 4, 6, 1, 21, 1, 8, 17, 13, 5, 21, 1, 19, 9, 1, 8, 1, 9, 1, 12, 3, 7, 23, 2, 6, 2, 1, 20, 5, 15, 15, 2, 9, 1, 6, 4, 11, 1, 19, 3, 10, 22, 9, 1, 23, 6, 16, 4, 21, 1, 7, 2, 9, 1, 7, 4, 12, 22, 7, 3, 13, 1, 20, 1, 20, 2, 5, 18, 17, 3, 21, 3, 16, 8, 3, 7, 2, 3, 15, 2, 1, 8, 4, 2, 23, 6, 19, 8, 4, 2, 2, 1, 7, 5, 7, 9, 4, 6, 15, 5, 8, 1, 9, 1, 3, 11, 19, 9, 1, 8, 1, 18, 5, 10, 2, 13, 1, 1, 2, 6, 5, 2, 9, 1, 8, 12, 9, 3, 8, 3, 12, 2, 1, 8, 6, 4, 7, 12, 10, 14, 11, 4, 7, 16, 3, 19, 5, 13, 3, 7, 18, 17, 2, 9, 1, 7, 3, 13, 1, 5, 15, 13, 5, 10, 10, 17, 10, 1, 6, 10, 1, 17, 3, 7, 7, 19, 3, 8, 8, 1, 7, 3, 7, 1, 25, 11, 3, 7, 12, 1, 8, 19, 9, 5, 16, 5, 2, 11, 4, 21, 5, 8, 12, 1, 18, 1, 15, 5, 8, 1, 10, 5, 6, 4, 7, 16, 9, 1, 8, 9, 5, 13, 1, 3, 7, 11, 9, 1, 8, 20, 3, 10, 6, 6, 3, 4, 10, 5, 8, 9, 5, 19, 3, 8, 11, 13, 5, 8, 8, 4, 6, 3, 7, 11, 15, 14, 13, 1, 6, 2, 1, 11, 11, 17, 19, 4, 10, 6, 5, 7, 19, 9, 5, 3, 8, 1, 3, 10, 8, 1, 3, 11, 17, 14, 6, 1, 11, 2, 5, 2, 9, 1, 6, 2, 8, 1, 1, 2, 6, 2, 9, 1, 17, 23, 8, 1, 6, 14, 8, 21, 4, 21, 5, 8, 6, 18, 5, 10, 2, 4, 6, 7, 23, 2, 9, 1, 23, 6, 7, 5, 2, 14, 6, 1, 11, 2, 5, 8, 1, 3, 12, 9, 4, 7, 16, 13, 14, 2, 14, 3, 10, 3, 16, 8, 1, 1, 13, 1, 7, 2, 6, 10, 4, 22, 1, 9, 1, 5, 7, 12, 1, 11, 4, 11, 19, 9, 1, 7, 18, 1, 4, 7, 16, 8, 4, 12, 9, 19, 9, 1, 8, 1, 4, 2, 23, 6, 15, 4, 16, 9, 2, 5, 8, 15, 10, 4, 16, 9, 2, 22, 4, 10, 10, 5, 8, 18, 1, 22, 4, 10, 10, 1, 11, 18, 8, 18, 8, 19, 9, 4, 10, 1, 2, 9, 1, 10, 5, 21, 1, 12, 5, 7, 7, 1, 12, 2, 4, 5, 7, 18, 1, 2, 19, 1, 1, 7, 13, 5, 10, 10, 17, 3, 7, 11, 18, 5, 10, 2, 19, 3, 6, 7, 23, 2, 7, 1, 12, 1, 6, 6, 3, 8, 17, 2, 5, 20, 10, 5, 2, 4, 15, 5, 14, 7, 11, 10, 4, 15, 1, 6, 2, 4, 7, 22, 6, 2, 5, 18, 1, 5, 7, 1, 5, 15, 13, 1, 10, 18, 8, 5, 5, 22, 6, 23, 5, 18, 6, 1, 8, 21, 3, 7, 2, 15, 4, 10, 13, 6, 19, 9, 1, 8, 1, 20, 8, 4, 5, 8, 2, 5, 18, 1, 4, 7, 16, 3, 12, 5, 13, 1, 11, 17, 4, 2, 6, 9, 5, 19, 6, 3, 2, 1, 7, 11, 1, 8, 6, 4, 11, 1, 12, 5, 13, 20, 3, 8, 1, 11, 2, 5, 9, 4, 6, 6, 10, 3, 20, 6, 2, 4, 12, 22, 19, 5, 8, 22, 6, 14, 12, 9, 3, 6, 18, 10, 3, 26, 4, 7, 16, 6, 3, 11, 11, 10, 1, 6, 17, 5, 14, 7, 16, 15, 8, 3, 7, 22, 1, 7, 6, 2, 1, 4, 7, 5, 8, 6, 20, 3, 12, 1, 18, 3, 10, 10, 6, 15, 5, 8, 2, 9, 1, 13, 3, 2, 2, 1, 8, 2, 5, 6, 9, 5, 19, 19, 9, 3, 2, 4, 2, 23, 6, 10, 4, 22, 1, 9, 3, 21, 4, 7, 16, 6, 5, 13, 1, 2, 9, 4, 7, 16, 21, 3, 10, 14, 3, 18, 10, 1, 18, 1, 15, 5, 8, 1, 10, 5, 6, 4, 7, 16, 4, 2, 2, 9, 1, 7, 1, 25, 2, 11, 3, 17, 5, 8, 5, 7, 2, 9, 1, 5, 2, 9, 1, 8, 9, 3, 7, 11, 13, 3, 22, 4, 7, 16, 3, 6, 2, 14, 20, 4, 11, 18, 1, 2, 10, 4, 22, 1, 3, 10, 10, 8, 4, 12, 9, 20, 1, 5, 20, 10, 1, 11, 5, 19, 9, 1, 7, 2, 9, 1, 17, 11, 5, 7, 23, 2, 22, 7, 5, 19, 19, 9, 3, 2, 2, 5, 11, 5, 19, 4, 2, 9, 2, 9, 1, 4, 8, 13, 5, 7, 1, 17, 13, 3, 17, 18, 1, 2, 9, 1, 17, 6, 9, 5, 14, 10, 11, 16, 4, 21, 1, 4, 2, 2, 5, 2, 9, 1, 9, 5, 13, 1, 10, 1, 6, 6, 4, 7, 6, 2, 1, 3, 11, 5, 15, 14, 6, 4, 7, 16, 4, 2, 10, 4, 22, 1, 13, 5, 7, 5, 20, 5, 10, 17, 13, 5, 7, 1, 17, 18, 8, 18, 8, 5, 8, 13, 3, 17, 18, 1, 2, 9, 4, 6, 15, 4, 10, 13, 19, 4, 10, 10, 4, 7, 6, 20, 4, 8, 1, 17, 5, 14, 2, 5, 9, 1, 10, 20, 5, 2, 9, 1, 8, 6]\n"
     ]
    }
   ],
   "source": [
    "print(\"after pad_sequences length=\", len(x_train[1]))\n",
    "print(x_train_seq[1])"
   ]
  },
  {
   "cell_type": "code",
   "execution_count": null,
   "metadata": {},
   "outputs": [],
   "source": []
  }
 ],
 "metadata": {
  "kernelspec": {
   "display_name": "Python 3",
   "language": "python",
   "name": "python3"
  },
  "language_info": {
   "codemirror_mode": {
    "name": "ipython",
    "version": 3
   },
   "file_extension": ".py",
   "mimetype": "text/x-python",
   "name": "python",
   "nbconvert_exporter": "python",
   "pygments_lexer": "ipython3",
   "version": "3.5.5"
  }
 },
 "nbformat": 4,
 "nbformat_minor": 2
}
